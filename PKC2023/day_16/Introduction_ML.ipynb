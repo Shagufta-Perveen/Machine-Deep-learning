{
 "cells": [
  {
   "cell_type": "markdown",
   "metadata": {},
   "source": [
    " .Machine Learning ma capital \"X\" and small  \"y\" use karty hy.\n",
    "\n",
    "   .\"X\" is called Feature and input.\n",
    "\n",
    "   .\"y\" is called Labals and output.\n"
   ]
  },
  {
   "cell_type": "markdown",
   "metadata": {},
   "source": [
    "## Assignment"
   ]
  },
  {
   "cell_type": "markdown",
   "metadata": {},
   "source": [
    "what is tall y in machine learning? "
   ]
  },
  {
   "cell_type": "markdown",
   "metadata": {},
   "source": [
    ".\"X\"  is also called \"X variables\".\n",
    "\n",
    ".\"y\" is also called \"y variable\"."
   ]
  },
  {
   "cell_type": "markdown",
   "metadata": {},
   "source": [
    ".Large set of data is called is \"Training Data\".(70 to 85% ,75 to 80% data)\n",
    "\n",
    ".Small set of data is called is \"Testing  Data\".(25%, 30%, 20% data)"
   ]
  },
  {
   "cell_type": "markdown",
   "metadata": {},
   "source": [
    "Numpy Scipy Scikit-learn Pandas Matplotlib Pytorch Theano TensorFlow Keras\n"
   ]
  },
  {
   "cell_type": "markdown",
   "metadata": {},
   "source": []
  }
 ],
 "metadata": {
  "language_info": {
   "name": "python"
  }
 },
 "nbformat": 4,
 "nbformat_minor": 2
}
