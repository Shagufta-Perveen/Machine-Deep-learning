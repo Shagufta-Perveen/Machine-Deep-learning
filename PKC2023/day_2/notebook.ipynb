{
 "cells": [
  {
   "cell_type": "code",
   "execution_count": 2,
   "metadata": {},
   "outputs": [
    {
     "name": "stdout",
     "output_type": "stream",
     "text": [
      "Hello\n"
     ]
    }
   ],
   "source": [
    "print(\"Hello\")"
   ]
  },
  {
   "cell_type": "markdown",
   "metadata": {},
   "source": [
    "## Simple Variable"
   ]
  },
  {
   "cell_type": "code",
   "execution_count": 2,
   "metadata": {},
   "outputs": [],
   "source": [
    "burger = \"cheese burger\"\n",
    "pasta = \"crunchy pasta\"\n",
    "pizza = \"simple pizza\"\n",
    "drink = \"next cola\""
   ]
  },
  {
   "cell_type": "code",
   "execution_count": 3,
   "metadata": {},
   "outputs": [
    {
     "name": "stdout",
     "output_type": "stream",
     "text": [
      "cheese burger\n"
     ]
    }
   ],
   "source": [
    "print(burger)"
   ]
  },
  {
   "cell_type": "markdown",
   "metadata": {},
   "source": [
    "## Array"
   ]
  },
  {
   "cell_type": "code",
   "execution_count": 4,
   "metadata": {},
   "outputs": [],
   "source": [
    "burger =[\"cheese burger\",\"chicken burger\",\"beef burger\"]\n",
    "pasta =[\"chicken pasta\",\"crunchy pasta\",\"cheese pasta\"]\n",
    "pizza =[\"chicken pizza\",\"simple pizza\",\"kabaa pizza\"]\n",
    "drink =[\"coco\",\"next cola\",\"spart\"]"
   ]
  },
  {
   "cell_type": "code",
   "execution_count": 7,
   "metadata": {},
   "outputs": [
    {
     "name": "stdout",
     "output_type": "stream",
     "text": [
      "simple pizza\n"
     ]
    }
   ],
   "source": [
    "print(pizza[1])"
   ]
  },
  {
   "cell_type": "markdown",
   "metadata": {},
   "source": [
    "## Objects\n"
   ]
  },
  {
   "cell_type": "code",
   "execution_count": 1,
   "metadata": {},
   "outputs": [],
   "source": [
    "person={'Name':'Shagufta',\"Age\":'23',\"CNIC\":'35404-11761410',\"lastdegree\":'BSM'}"
   ]
  },
  {
   "cell_type": "code",
   "execution_count": 18,
   "metadata": {},
   "outputs": [
    {
     "name": "stdout",
     "output_type": "stream",
     "text": [
      "Shagufta\n"
     ]
    }
   ],
   "source": [
    "print(person[\"Name\"])"
   ]
  },
  {
   "cell_type": "code",
   "execution_count": 19,
   "metadata": {},
   "outputs": [],
   "source": [
    "Groups=[{'memberone':'Zara','membertwo':'Atif'},{'memberone':'Shagufta','membertwo':'Hamza'},{'memberone':'Warda','membertwo':'Iqra'},{'memberone':'Zoya','membertwo':'Shahid'}]"
   ]
  },
  {
   "cell_type": "code",
   "execution_count": 22,
   "metadata": {},
   "outputs": [
    {
     "name": "stdout",
     "output_type": "stream",
     "text": [
      "Hamza\n"
     ]
    }
   ],
   "source": [
    "print(Groups[1]['membertwo'])"
   ]
  },
  {
   "cell_type": "code",
   "execution_count": 35,
   "metadata": {},
   "outputs": [],
   "source": [
    "Schedule=[{\"Monday\":['IntroductionDatabase1(8:00-8:55)','IntroductionDatabase2(9:00-9:55)','ProgrammingFundamentals(17:00-17:55)']},\n",
    "          {\"Tuesday\":'off'},\n",
    "          {\"Wednesday\":'IntroductionDatabase1(8:00-8:55)'},\n",
    "          {\"Thursday\":['DataStructure1(9:00-9:00)','DataStructure2(10:00-10:55)','RearchMethodology1(18:00-18:55)','RearchMethodology1(19:00-19:55)','RearchMethodology1(20:00-20:55)']},\n",
    "          {\"Friday\":['DataStructure1(8:00-8:55)','ProgramminfFundamentals(14:00-14:55)','ProgrammingFundamentals(15:00-15:55)']},\n",
    "          {\"Saturday\":'off'},\n",
    "          {\"Sunday\":'Hoilday'}\n",
    "          ]"
   ]
  },
  {
   "cell_type": "code",
   "execution_count": 36,
   "metadata": {},
   "outputs": [
    {
     "name": "stdout",
     "output_type": "stream",
     "text": [
      "[{'Monday': ['IntroductionDatabase1(8:00-8:55)', 'IntroductionDatabase2(9:00-9:55)', 'ProgrammingFundamentals(17:00-17:55)']}, {'Tuesday': 'off'}, {'Wednesday': 'IntroductionDatabase1(8:00-8:55)'}, {'Thursday': ['DataStructure1(9:00-9:00)', 'DataStructure2(10:00-10:55)', 'RearchMethodology1(18:00-18:55)', 'RearchMethodology1(19:00-19:55)', 'RearchMethodology1(20:00-20:55)']}, {'Friday': ['DataStructure1(8:00-8:55)', 'ProgramminfFundamentals(14:00-14:55)', 'ProgrammingFundamentals(15:00-15:55)']}, {'Saturday': 'off'}, {'Sunday': 'Hoilday'}]\n"
     ]
    }
   ],
   "source": [
    "print(Schedule)"
   ]
  },
  {
   "cell_type": "code",
   "execution_count": 37,
   "metadata": {},
   "outputs": [
    {
     "name": "stdout",
     "output_type": "stream",
     "text": [
      "{'Thursday': ['DataStructure1(9:00-9:00)', 'DataStructure2(10:00-10:55)', 'RearchMethodology1(18:00-18:55)', 'RearchMethodology1(19:00-19:55)', 'RearchMethodology1(20:00-20:55)']}\n"
     ]
    }
   ],
   "source": [
    "print(Schedule[3])"
   ]
  },
  {
   "cell_type": "code",
   "execution_count": null,
   "metadata": {},
   "outputs": [],
   "source": []
  }
 ],
 "metadata": {
  "kernelspec": {
   "display_name": "base",
   "language": "python",
   "name": "python3"
  },
  "language_info": {
   "codemirror_mode": {
    "name": "ipython",
    "version": 3
   },
   "file_extension": ".py",
   "mimetype": "text/x-python",
   "name": "python",
   "nbconvert_exporter": "python",
   "pygments_lexer": "ipython3",
   "version": "3.12.4"
  }
 },
 "nbformat": 4,
 "nbformat_minor": 2
}
